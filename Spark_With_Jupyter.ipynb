{
 "cells": [
  {
   "cell_type": "code",
   "execution_count": 2,
   "id": "7964a9d1",
   "metadata": {},
   "outputs": [
    {
     "name": "stdout",
     "output_type": "stream",
     "text": [
      "Collecting pyspark\n",
      "  Using cached pyspark-3.2.1-py2.py3-none-any.whl\n",
      "Collecting py4j==0.10.9.3\n",
      "  Using cached py4j-0.10.9.3-py2.py3-none-any.whl (198 kB)\n",
      "Installing collected packages: py4j, pyspark\n",
      "Successfully installed py4j-0.10.9.3 pyspark-3.2.1\n"
     ]
    }
   ],
   "source": [
    "!pip install pyspark"
   ]
  },
  {
   "cell_type": "code",
   "execution_count": 3,
   "id": "b0dbd1d1",
   "metadata": {},
   "outputs": [],
   "source": [
    "import pyspark"
   ]
  },
  {
   "cell_type": "code",
   "execution_count": 4,
   "id": "08e005e0",
   "metadata": {},
   "outputs": [],
   "source": [
    "import pandas as pd"
   ]
  },
  {
   "cell_type": "code",
   "execution_count": 5,
   "id": "307490f5",
   "metadata": {},
   "outputs": [],
   "source": [
    "from pyspark.sql import SparkSession"
   ]
  },
  {
   "cell_type": "code",
   "execution_count": 6,
   "id": "9b23c887",
   "metadata": {
    "collapsed": true
   },
   "outputs": [
    {
     "name": "stderr",
     "output_type": "stream",
     "text": [
      "22/05/15 11:04:02 WARN Utils: Your hostname, Hamiltons-MacBook-Pro.local resolves to a loopback address: 127.0.0.1; using 10.0.0.12 instead (on interface en0)\n",
      "22/05/15 11:04:02 WARN Utils: Set SPARK_LOCAL_IP if you need to bind to another address\n",
      "Using Spark's default log4j profile: org/apache/spark/log4j-defaults.properties\n",
      "Setting default log level to \"WARN\".\n",
      "To adjust logging level use sc.setLogLevel(newLevel). For SparkR, use setLogLevel(newLevel).\n",
      "22/05/15 11:04:03 WARN NativeCodeLoader: Unable to load native-hadoop library for your platform... using builtin-java classes where applicable\n"
     ]
    }
   ],
   "source": [
    "## Spark needs a sparksession\n",
    "spark=SparkSession.builder.appName('Practice').getOrCreate()"
   ]
  },
  {
   "cell_type": "code",
   "execution_count": 7,
   "id": "1ac1f01c",
   "metadata": {},
   "outputs": [
    {
     "data": {
      "text/html": [
       "\n",
       "            <div>\n",
       "                <p><b>SparkSession - in-memory</b></p>\n",
       "                \n",
       "        <div>\n",
       "            <p><b>SparkContext</b></p>\n",
       "\n",
       "            <p><a href=\"http://10.0.0.12:4040\">Spark UI</a></p>\n",
       "\n",
       "            <dl>\n",
       "              <dt>Version</dt>\n",
       "                <dd><code>v3.2.1</code></dd>\n",
       "              <dt>Master</dt>\n",
       "                <dd><code>local[*]</code></dd>\n",
       "              <dt>AppName</dt>\n",
       "                <dd><code>Practice</code></dd>\n",
       "            </dl>\n",
       "        </div>\n",
       "        \n",
       "            </div>\n",
       "        "
      ],
      "text/plain": [
       "<pyspark.sql.session.SparkSession at 0x7fce9d40deb0>"
      ]
     },
     "execution_count": 7,
     "metadata": {},
     "output_type": "execute_result"
    }
   ],
   "source": [
    "spark"
   ]
  },
  {
   "cell_type": "code",
   "execution_count": 19,
   "id": "e6b24cd2",
   "metadata": {
    "scrolled": true
   },
   "outputs": [
    {
     "ename": "TypeError",
     "evalue": "json() got an unexpected keyword argument 'inferSchema'",
     "output_type": "error",
     "traceback": [
      "\u001b[0;31m---------------------------------------------------------------------------\u001b[0m",
      "\u001b[0;31mTypeError\u001b[0m                                 Traceback (most recent call last)",
      "\u001b[0;32m/var/folders/ww/8m80wh_13cd0s4ymc_9180n00000gn/T/ipykernel_9823/742967317.py\u001b[0m in \u001b[0;36m<module>\u001b[0;34m\u001b[0m\n\u001b[1;32m      1\u001b[0m \u001b[0;31m## Reading a multi-line dataset\u001b[0m\u001b[0;34m\u001b[0m\u001b[0;34m\u001b[0m\u001b[0m\n\u001b[1;32m      2\u001b[0m \u001b[0;34m\u001b[0m\u001b[0m\n\u001b[0;32m----> 3\u001b[0;31m \u001b[0mdf_pyspark\u001b[0m \u001b[0;34m=\u001b[0m \u001b[0mspark\u001b[0m\u001b[0;34m.\u001b[0m\u001b[0mread\u001b[0m\u001b[0;34m.\u001b[0m\u001b[0mjson\u001b[0m\u001b[0;34m(\u001b[0m\u001b[0;34m'tenth_scrape.json'\u001b[0m\u001b[0;34m,\u001b[0m \u001b[0mmultiLine\u001b[0m\u001b[0;34m=\u001b[0m\u001b[0;32mTrue\u001b[0m\u001b[0;34m,\u001b[0m \u001b[0minferSchema\u001b[0m\u001b[0;34m=\u001b[0m\u001b[0;32mTrue\u001b[0m\u001b[0;34m)\u001b[0m\u001b[0;34m\u001b[0m\u001b[0;34m\u001b[0m\u001b[0m\n\u001b[0m",
      "\u001b[0;31mTypeError\u001b[0m: json() got an unexpected keyword argument 'inferSchema'"
     ]
    }
   ],
   "source": [
    "## Reading a multi-line dataset\n",
    "\n",
    "df_pyspark = spark.read.json('tenth_scrape.json', multiLine=True)"
   ]
  },
  {
   "cell_type": "code",
   "execution_count": 17,
   "id": "85ec90bb",
   "metadata": {},
   "outputs": [
    {
     "data": {
      "text/plain": [
       "[Row(conversation_id='1518601977441054726', created_at='2022-04-25T14:45:00.000Z', favorite_count=3155, full_text='Lando was out of the traps quickly 👏\\n\\n#ImolaGP @McLarenF1 https://t.co/ghAFg0WCLK', hashtags=['ImolaGP'], id='1518601977441054726', reply_count=26, retweet_count=166, symbols=[], url='https://twitter.com/F1/status/1518601977441054726', urls=[], user=Row(advertiser_account_type='promotable_user', blocked_by=None, blocking=None, business_profile_state='none', can_dm=None, contributors_enabled=False, created_at='2009-08-26T15:19:37.000Z', default_profile_image=False, description='Next up, MIAMI! 🌴 May 6-8', ext_has_nft_avatar=False, fast_followers_count=0, favourites_count=4266, follow_request_sent=None, followed_by=None, followers_count=7710848, following=None, friends_count=79, geo_enabled=False, has_custom_timelines=True, id=69008563, id_str='69008563', is_translation_enabled=False, is_translator=False, lang=None, listed_count=31417, location='', media_count=48877, muting=None, name='Formula 1', normal_followers_count=7710848, notifications=None, profile_background_color='000000', profile_background_image_url='http://abs.twimg.com/images/themes/theme1/bg.png', profile_background_image_url_https='https://abs.twimg.com/images/themes/theme1/bg.png', profile_background_tile=False, profile_banner_extensions_sensitive_media_warning=None, profile_banner_url='https://pbs.twimg.com/profile_banners/69008563/1650813770', profile_image_extensions_sensitive_media_warning=None, profile_image_url='http://pbs.twimg.com/profile_images/1510909017996111880/Yj6olIie_normal.jpg', profile_image_url_https='https://pbs.twimg.com/profile_images/1510909017996111880/Yj6olIie_normal.jpg', profile_sidebar_border_color='000000', profile_sidebar_fill_color='CCCCCC', profile_text_color='222222', profile_use_background_image=False, protected=False, require_some_consent=False, screen_name='F1', statuses_count=72307, time_zone=None, translator_type='regular', url='https://t.co/zNSJID7DqL', utc_offset=None, verified=True, want_retweets=None, withheld_in_countries=[]), user_mentions=[Row(id_str='24871896', name='McLaren', screen_name='McLarenF1')])]"
      ]
     },
     "execution_count": 17,
     "metadata": {},
     "output_type": "execute_result"
    }
   ],
   "source": [
    "spark.read.option('header', 'true').json('tenth_scrape.json', multiLine=True).head(1)"
   ]
  },
  {
   "cell_type": "code",
   "execution_count": 18,
   "id": "c1493c77",
   "metadata": {
    "scrolled": true
   },
   "outputs": [
    {
     "name": "stdout",
     "output_type": "stream",
     "text": [
      "root\n",
      " |-- conversation_id: string (nullable = true)\n",
      " |-- created_at: string (nullable = true)\n",
      " |-- favorite_count: long (nullable = true)\n",
      " |-- full_text: string (nullable = true)\n",
      " |-- hashtags: array (nullable = true)\n",
      " |    |-- element: string (containsNull = true)\n",
      " |-- id: string (nullable = true)\n",
      " |-- reply_count: long (nullable = true)\n",
      " |-- retweet_count: long (nullable = true)\n",
      " |-- symbols: array (nullable = true)\n",
      " |    |-- element: string (containsNull = true)\n",
      " |-- url: string (nullable = true)\n",
      " |-- urls: array (nullable = true)\n",
      " |    |-- element: struct (containsNull = true)\n",
      " |    |    |-- display_url: string (nullable = true)\n",
      " |    |    |-- expanded_url: string (nullable = true)\n",
      " |    |    |-- url: string (nullable = true)\n",
      " |-- user: struct (nullable = true)\n",
      " |    |-- advertiser_account_type: string (nullable = true)\n",
      " |    |-- blocked_by: string (nullable = true)\n",
      " |    |-- blocking: string (nullable = true)\n",
      " |    |-- business_profile_state: string (nullable = true)\n",
      " |    |-- can_dm: string (nullable = true)\n",
      " |    |-- contributors_enabled: boolean (nullable = true)\n",
      " |    |-- created_at: string (nullable = true)\n",
      " |    |-- default_profile_image: boolean (nullable = true)\n",
      " |    |-- description: string (nullable = true)\n",
      " |    |-- ext_has_nft_avatar: boolean (nullable = true)\n",
      " |    |-- fast_followers_count: long (nullable = true)\n",
      " |    |-- favourites_count: long (nullable = true)\n",
      " |    |-- follow_request_sent: string (nullable = true)\n",
      " |    |-- followed_by: string (nullable = true)\n",
      " |    |-- followers_count: long (nullable = true)\n",
      " |    |-- following: string (nullable = true)\n",
      " |    |-- friends_count: long (nullable = true)\n",
      " |    |-- geo_enabled: boolean (nullable = true)\n",
      " |    |-- has_custom_timelines: boolean (nullable = true)\n",
      " |    |-- id: long (nullable = true)\n",
      " |    |-- id_str: string (nullable = true)\n",
      " |    |-- is_translation_enabled: boolean (nullable = true)\n",
      " |    |-- is_translator: boolean (nullable = true)\n",
      " |    |-- lang: string (nullable = true)\n",
      " |    |-- listed_count: long (nullable = true)\n",
      " |    |-- location: string (nullable = true)\n",
      " |    |-- media_count: long (nullable = true)\n",
      " |    |-- muting: string (nullable = true)\n",
      " |    |-- name: string (nullable = true)\n",
      " |    |-- normal_followers_count: long (nullable = true)\n",
      " |    |-- notifications: string (nullable = true)\n",
      " |    |-- profile_background_color: string (nullable = true)\n",
      " |    |-- profile_background_image_url: string (nullable = true)\n",
      " |    |-- profile_background_image_url_https: string (nullable = true)\n",
      " |    |-- profile_background_tile: boolean (nullable = true)\n",
      " |    |-- profile_banner_extensions_sensitive_media_warning: string (nullable = true)\n",
      " |    |-- profile_banner_url: string (nullable = true)\n",
      " |    |-- profile_image_extensions_sensitive_media_warning: string (nullable = true)\n",
      " |    |-- profile_image_url: string (nullable = true)\n",
      " |    |-- profile_image_url_https: string (nullable = true)\n",
      " |    |-- profile_sidebar_border_color: string (nullable = true)\n",
      " |    |-- profile_sidebar_fill_color: string (nullable = true)\n",
      " |    |-- profile_text_color: string (nullable = true)\n",
      " |    |-- profile_use_background_image: boolean (nullable = true)\n",
      " |    |-- protected: boolean (nullable = true)\n",
      " |    |-- require_some_consent: boolean (nullable = true)\n",
      " |    |-- screen_name: string (nullable = true)\n",
      " |    |-- statuses_count: long (nullable = true)\n",
      " |    |-- time_zone: string (nullable = true)\n",
      " |    |-- translator_type: string (nullable = true)\n",
      " |    |-- url: string (nullable = true)\n",
      " |    |-- utc_offset: string (nullable = true)\n",
      " |    |-- verified: boolean (nullable = true)\n",
      " |    |-- want_retweets: string (nullable = true)\n",
      " |    |-- withheld_in_countries: array (nullable = true)\n",
      " |    |    |-- element: string (containsNull = true)\n",
      " |-- user_mentions: array (nullable = true)\n",
      " |    |-- element: struct (containsNull = true)\n",
      " |    |    |-- id_str: string (nullable = true)\n",
      " |    |    |-- name: string (nullable = true)\n",
      " |    |    |-- screen_name: string (nullable = true)\n",
      "\n"
     ]
    }
   ],
   "source": [
    "## print the schema\n",
    "df_pyspark.printSchema()"
   ]
  },
  {
   "cell_type": "code",
   "execution_count": 21,
   "id": "56202ad3",
   "metadata": {},
   "outputs": [
    {
     "data": {
      "text/plain": [
       "['conversation_id',\n",
       " 'created_at',\n",
       " 'favorite_count',\n",
       " 'full_text',\n",
       " 'hashtags',\n",
       " 'id',\n",
       " 'reply_count',\n",
       " 'retweet_count',\n",
       " 'symbols',\n",
       " 'url',\n",
       " 'urls',\n",
       " 'user',\n",
       " 'user_mentions']"
      ]
     },
     "execution_count": 21,
     "metadata": {},
     "output_type": "execute_result"
    }
   ],
   "source": [
    "## show columns\n",
    "df_pyspark.columns"
   ]
  },
  {
   "cell_type": "code",
   "execution_count": 26,
   "id": "09e64cba",
   "metadata": {},
   "outputs": [
    {
     "name": "stdout",
     "output_type": "stream",
     "text": [
      "+-------------------+--------------------+\n",
      "|    conversation_id|           full_text|\n",
      "+-------------------+--------------------+\n",
      "|1518601977441054726|Lando was out of ...|\n",
      "|1518266265097355267|DRIVER STANDINGS ...|\n",
      "|1518234578263097345|LAP 54/53 \\n\\nLec...|\n",
      "|1518199409460363264|Forever a legend ...|\n",
      "|1518253457723039744|Peep the new @F1 ...|\n",
      "|1517870164351414273|Vettel fingiendo ...|\n",
      "|1518241098904219648|World champion Ma...|\n",
      "|1518578572818108417|What. A. Performa...|\n",
      "|1518263201443553282|charles leclerc g...|\n",
      "|1518253681837232129|Bahrain P4\\nSaudi...|\n",
      "|1518486434591739904|I love this team ...|\n",
      "|1518237408927563776|P3... AGAIN! 🙌🏆...|\n",
      "|1518225800797040641|Minister of defen...|\n",
      "|1518283717827043331|Possibly warm tak...|\n",
      "|1517897486995796419|e cabe ao charles...|\n",
      "|1517565844225765376|Hamilton y Russel...|\n",
      "|1518234346230099969|Lap 55/63: After ...|\n",
      "|1518258482088185859|Bottas isn't play...|\n",
      "|1518545457651269633|Next stop... MIAM...|\n",
      "|1518245198610026496|Belissimo, Bulls ...|\n",
      "+-------------------+--------------------+\n",
      "only showing top 20 rows\n",
      "\n"
     ]
    }
   ],
   "source": [
    "## how to show specific columns in Spark, single and multiple\n",
    "df_pyspark.select(['conversation_id', 'full_text']).show()"
   ]
  },
  {
   "cell_type": "code",
   "execution_count": 27,
   "id": "0dff26f5",
   "metadata": {
    "scrolled": true
   },
   "outputs": [
    {
     "data": {
      "text/plain": [
       "[('conversation_id', 'string'),\n",
       " ('created_at', 'string'),\n",
       " ('favorite_count', 'bigint'),\n",
       " ('full_text', 'string'),\n",
       " ('hashtags', 'array<string>'),\n",
       " ('id', 'string'),\n",
       " ('reply_count', 'bigint'),\n",
       " ('retweet_count', 'bigint'),\n",
       " ('symbols', 'array<string>'),\n",
       " ('url', 'string'),\n",
       " ('urls', 'array<struct<display_url:string,expanded_url:string,url:string>>'),\n",
       " ('user',\n",
       "  'struct<advertiser_account_type:string,blocked_by:string,blocking:string,business_profile_state:string,can_dm:string,contributors_enabled:boolean,created_at:string,default_profile_image:boolean,description:string,ext_has_nft_avatar:boolean,fast_followers_count:bigint,favourites_count:bigint,follow_request_sent:string,followed_by:string,followers_count:bigint,following:string,friends_count:bigint,geo_enabled:boolean,has_custom_timelines:boolean,id:bigint,id_str:string,is_translation_enabled:boolean,is_translator:boolean,lang:string,listed_count:bigint,location:string,media_count:bigint,muting:string,name:string,normal_followers_count:bigint,notifications:string,profile_background_color:string,profile_background_image_url:string,profile_background_image_url_https:string,profile_background_tile:boolean,profile_banner_extensions_sensitive_media_warning:string,profile_banner_url:string,profile_image_extensions_sensitive_media_warning:string,profile_image_url:string,profile_image_url_https:string,profile_sidebar_border_color:string,profile_sidebar_fill_color:string,profile_text_color:string,profile_use_background_image:boolean,protected:boolean,require_some_consent:boolean,screen_name:string,statuses_count:bigint,time_zone:string,translator_type:string,url:string,utc_offset:string,verified:boolean,want_retweets:string,withheld_in_countries:array<string>>'),\n",
       " ('user_mentions',\n",
       "  'array<struct<id_str:string,name:string,screen_name:string>>')]"
      ]
     },
     "execution_count": 27,
     "metadata": {},
     "output_type": "execute_result"
    }
   ],
   "source": [
    "## Showing types of all columns\n",
    "df_pyspark.dtypes"
   ]
  },
  {
   "cell_type": "code",
   "execution_count": 30,
   "id": "4035ee9a",
   "metadata": {},
   "outputs": [
    {
     "data": {
      "text/plain": [
       "DataFrame[summary: string, conversation_id: string, created_at: string, favorite_count: string, full_text: string, id: string, reply_count: string, retweet_count: string, url: string]"
      ]
     },
     "execution_count": 30,
     "metadata": {},
     "output_type": "execute_result"
    }
   ],
   "source": [
    "## Summary of the spark dataframe\n",
    "df_pyspark.describe()"
   ]
  },
  {
   "cell_type": "code",
   "execution_count": 35,
   "id": "ffc3d914",
   "metadata": {},
   "outputs": [],
   "source": [
    "## adding columns in data spark dataframe\n",
    "df_pyspark = df_pyspark.withColumn('Number of replies', df_pyspark['reply_count'])"
   ]
  },
  {
   "cell_type": "code",
   "execution_count": 37,
   "id": "c8b7fc67",
   "metadata": {
    "scrolled": true
   },
   "outputs": [
    {
     "data": {
      "text/plain": [
       "['conversation_id',\n",
       " 'created_at',\n",
       " 'favorite_count',\n",
       " 'full_text',\n",
       " 'hashtags',\n",
       " 'id',\n",
       " 'reply_count',\n",
       " 'retweet_count',\n",
       " 'symbols',\n",
       " 'url',\n",
       " 'urls',\n",
       " 'user',\n",
       " 'user_mentions',\n",
       " 'Number of replies']"
      ]
     },
     "execution_count": 37,
     "metadata": {},
     "output_type": "execute_result"
    }
   ],
   "source": [
    "## Testing that new column was added\n",
    "df_pyspark.columns"
   ]
  },
  {
   "cell_type": "code",
   "execution_count": 39,
   "id": "ad9ed9a0",
   "metadata": {},
   "outputs": [
    {
     "data": {
      "text/plain": [
       "['conversation_id',\n",
       " 'created_at',\n",
       " 'favorite_count',\n",
       " 'full_text',\n",
       " 'hashtags',\n",
       " 'id',\n",
       " 'reply_count',\n",
       " 'retweet_count',\n",
       " 'symbols',\n",
       " 'url',\n",
       " 'urls',\n",
       " 'user',\n",
       " 'user_mentions']"
      ]
     },
     "execution_count": 39,
     "metadata": {},
     "output_type": "execute_result"
    }
   ],
   "source": [
    "## Drop columns testing\n",
    "df_pyspark.drop('Number of replies').columns"
   ]
  },
  {
   "cell_type": "code",
   "execution_count": 40,
   "id": "2f6a2859",
   "metadata": {},
   "outputs": [
    {
     "data": {
      "text/plain": [
       "['conversation_id',\n",
       " 'created_at',\n",
       " 'favorite_count',\n",
       " 'full_text',\n",
       " 'hashtags',\n",
       " 'id',\n",
       " 'reply_count',\n",
       " 'retweet_count',\n",
       " 'symbols',\n",
       " 'url',\n",
       " 'urls',\n",
       " 'user',\n",
       " 'mentions',\n",
       " 'Number of replies']"
      ]
     },
     "execution_count": 40,
     "metadata": {},
     "output_type": "execute_result"
    }
   ],
   "source": [
    "## Rename the columns\n",
    "df_pyspark.withColumnRenamed('user_mentions', 'mentions').columns"
   ]
  },
  {
   "cell_type": "code",
   "execution_count": null,
   "id": "42bf510e",
   "metadata": {},
   "outputs": [],
   "source": []
  },
  {
   "cell_type": "code",
   "execution_count": null,
   "id": "f5e31379",
   "metadata": {},
   "outputs": [],
   "source": []
  },
  {
   "cell_type": "code",
   "execution_count": null,
   "id": "445d2bb7",
   "metadata": {},
   "outputs": [],
   "source": []
  }
 ],
 "metadata": {
  "kernelspec": {
   "display_name": "Python 3 (ipykernel)",
   "language": "python",
   "name": "python3"
  },
  "language_info": {
   "codemirror_mode": {
    "name": "ipython",
    "version": 3
   },
   "file_extension": ".py",
   "mimetype": "text/x-python",
   "name": "python",
   "nbconvert_exporter": "python",
   "pygments_lexer": "ipython3",
   "version": "3.9.7"
  }
 },
 "nbformat": 4,
 "nbformat_minor": 5
}
